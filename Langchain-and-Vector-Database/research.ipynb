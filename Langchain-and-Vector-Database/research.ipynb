{
 "cells": [
  {
   "cell_type": "markdown",
   "metadata": {},
   "source": [
    "1. The pdf act as the corpus to the llm model\n",
    "2. This pdf is then converted into text chunks\n",
    "3. Then the openAI Embeddings will convert these text chunks into vectors\n",
    "4. Using vector search database to store these vectors for efficient queries"
   ]
  },
  {
   "cell_type": "markdown",
   "metadata": {},
   "source": [
    "## Importing Libraries"
   ]
  },
  {
   "cell_type": "code",
   "execution_count": 11,
   "metadata": {},
   "outputs": [],
   "source": [
    "import openai\n",
    "import langchain\n",
    "from langchain.document_loaders import PyPDFDirectoryLoader # to load pdf from directory\n",
    "from langchain.text_splitter import RecursiveCharacterTextSplitter # for text splitting to remain inside the token size\n",
    "from langchain.embeddings.openai import OpenAIEmbeddings # converting chunks into vectors\n",
    "from langchain_pinecone import PineconeVectorStore,Pinecone # for creating a vector store\n",
    "from langchain_openai import OpenAI"
   ]
  },
  {
   "cell_type": "markdown",
   "metadata": {},
   "source": [
    "## Loading Environment variables"
   ]
  },
  {
   "cell_type": "code",
   "execution_count": 13,
   "metadata": {},
   "outputs": [
    {
     "data": {
      "text/plain": [
       "True"
      ]
     },
     "execution_count": 13,
     "metadata": {},
     "output_type": "execute_result"
    }
   ],
   "source": [
    "import os\n",
    "from dotenv import load_dotenv\n",
    "load_dotenv()"
   ]
  },
  {
   "cell_type": "markdown",
   "metadata": {},
   "source": [
    "## Reading the PDF file"
   ]
  },
  {
   "cell_type": "code",
   "execution_count": 17,
   "metadata": {},
   "outputs": [],
   "source": [
    "def read_doc(directory):\n",
    "    file_loader=PyPDFDirectoryLoader(directory)\n",
    "    documents=file_loader.load()\n",
    "    return documents"
   ]
  },
  {
   "cell_type": "code",
   "execution_count": 18,
   "metadata": {},
   "outputs": [],
   "source": [
    "doc=read_doc(os.path.join('documents'))"
   ]
  },
  {
   "cell_type": "markdown",
   "metadata": {},
   "source": [
    "## Converting Document to Chunks"
   ]
  },
  {
   "cell_type": "code",
   "execution_count": 19,
   "metadata": {},
   "outputs": [],
   "source": [
    "def chunk_data(docs,chunk_size=300,chunk_overlap=20):\n",
    "    text_splitter=RecursiveCharacterTextSplitter(chunk_size=chunk_size,chunk_overlap=chunk_overlap)\n",
    "    docs=text_splitter.split_documents(docs)\n",
    "    return docs"
   ]
  },
  {
   "cell_type": "code",
   "execution_count": 20,
   "metadata": {},
   "outputs": [],
   "source": [
    "documents=chunk_data(docs=doc)"
   ]
  },
  {
   "cell_type": "code",
   "execution_count": 21,
   "metadata": {},
   "outputs": [
    {
     "data": {
      "text/plain": [
       "6939"
      ]
     },
     "execution_count": 21,
     "metadata": {},
     "output_type": "execute_result"
    }
   ],
   "source": [
    "len(documents)"
   ]
  },
  {
   "cell_type": "markdown",
   "metadata": {},
   "source": [
    "## Embedding the documents"
   ]
  },
  {
   "cell_type": "code",
   "execution_count": 22,
   "metadata": {},
   "outputs": [],
   "source": [
    "embeddings=OpenAIEmbeddings(api_key=os.environ['OPENAI_KEY'])"
   ]
  },
  {
   "cell_type": "code",
   "execution_count": 8,
   "metadata": {},
   "outputs": [],
   "source": [
    "vectors=embeddings.embed_query(\"Hari Bol\")"
   ]
  },
  {
   "cell_type": "code",
   "execution_count": 9,
   "metadata": {},
   "outputs": [
    {
     "data": {
      "text/plain": [
       "1536"
      ]
     },
     "execution_count": 9,
     "metadata": {},
     "output_type": "execute_result"
    }
   ],
   "source": [
    "len(vectors)"
   ]
  },
  {
   "cell_type": "code",
   "execution_count": 16,
   "metadata": {},
   "outputs": [],
   "source": [
    "pinecone_api_key = os.environ.get('PINECONE_API_KEY')\n",
    "openai_api_key = os.environ.get('OPENAI_KEY')\n",
    "index_name=\"bhagwat-gita-search\""
   ]
  },
  {
   "cell_type": "code",
   "execution_count": 26,
   "metadata": {},
   "outputs": [],
   "source": [
    "# vectorStore=Pinecone.from_documents(document,embeddings,index_name=index_name) -> to load the document\n",
    "vectorStore=Pinecone(index_name=index_name,embedding=embeddings)"
   ]
  },
  {
   "cell_type": "markdown",
   "metadata": {},
   "source": [
    "## Retrieve results from VectorDB"
   ]
  },
  {
   "cell_type": "code",
   "execution_count": 27,
   "metadata": {},
   "outputs": [],
   "source": [
    "def retrieve_query(query,k=10):\n",
    "    matching_reults=vectorStore.similarity_search(query,k=k)\n",
    "    return matching_reults"
   ]
  },
  {
   "cell_type": "code",
   "execution_count": 29,
   "metadata": {},
   "outputs": [],
   "source": [
    "from langchain.chains.question_answering import load_qa_chain\n",
    "from langchain import OpenAI"
   ]
  },
  {
   "cell_type": "code",
   "execution_count": 28,
   "metadata": {},
   "outputs": [],
   "source": [
    "llm = OpenAI()\n",
    "chain = load_qa_chain(llm=OpenAI(), chain_type=\"stuff\") # to create a Q&A application"
   ]
  },
  {
   "cell_type": "markdown",
   "metadata": {},
   "source": [
    "## Making Queries to VectorDB"
   ]
  },
  {
   "cell_type": "code",
   "execution_count": 30,
   "metadata": {},
   "outputs": [],
   "source": [
    "def retrieve_answers(query):\n",
    "    doc_search=retrieve_query(query)\n",
    "    print(doc_search)\n",
    "    response = chain.run(input_documents=doc_search,question=query)\n",
    "    return response"
   ]
  },
  {
   "cell_type": "code",
   "execution_count": 32,
   "metadata": {},
   "outputs": [
    {
     "name": "stdout",
     "output_type": "stream",
     "text": [
      "[Document(page_content='Śrīmad-Bhagavad-gītā\\tin\\tthe\\tmatter\\tof\\tthe\\tDivisions\\tof\\tFaith.', metadata={'page': 818.0, 'source': 'documents\\\\English-Bhagavad-Gita.pdf'}), Document(page_content='BG-17\\nCHAPTER\\tSEVENTEEN\\nThe\\tDivisions\\tof\\tFaith\\nTEXT\\t1\\nअ ज Ʋƨन\\tउ वा च\\t।\\nŏ\\tशा Źe वe धमƲü सƼßय\\tयज ĭú\\tǪĚया ि ĭवता ः\\t।\\núष Ɗ\\te न űा \\tतƲ\\tक ा\\tक ƺŲण\\tसĄवमा हो \\tर ज ŵतमः\\t॥१॥\\narjuna\\tuvāca\\nye\\tśāstra-vidhim\\tutsṛjya\\nyajante\\tśraddhayānvitāḥ\\nteṣāṁ\\tniṣṭhā\\ttu\\tkā\\tkṛṣṇa\\nsattvam\\tāho\\trajas\\ttamaḥ', metadata={'page': 792.0, 'source': 'documents\\\\English-Bhagavad-Gita.pdf'}), Document(page_content='divisible\\t into\\t an\\t eightfold\\t procedure\\t called\\t yama,\\t niyama,\\t āsana,\\nprāṇāyāma,\\t pratyāhāra,\\t dhāraṇā,\\t dhyāna,\\t and\\t samādhi.\\t In\\t the\\t Sixth\\nChapter\\tthe\\tsubject\\tof\\t yoga\\tis\\texplicitly\\tdetailed,\\tand\\tat\\tthe\\tend\\tof\\tthe\\tFifth', metadata={'page': 324.0, 'source': 'documents\\\\English-Bhagavad-Gita.pdf'}), Document(page_content='in\\tthe\\tBhāgavatam\\tthe\\tsame\\tversion\\tis\\tstated:\\nkeśāgra-śata-bhāgasya\\tśatāṁśaḥ\\tsādṛśātmakaḥ\\njīvaḥ\\tsūkṣma-svarupo\\t\\'yaṁ\\tsaṅkhyātīto\\thi\\tcit-kaṇaḥ\\n\"There\\tare\\tinnumerable\\tparticles\\tof\\tspiritual\\tatoms,\\twhich\\tare\\tmeasured\\tas\\none\\tten-thousandth\\tof\\tthe\\tupper\\tportion\\tof\\tthe\\thair.\"', metadata={'page': 120.0, 'source': 'documents\\\\English-Bhagavad-Gita.pdf'}), Document(page_content='But\\tthe\\tLord\\tsays:\\nyoginām\\tapi\\tsarveṣāṁ\\tmad-gatenāntarātmanā\\nśraddhāvān\\tbhajate\\tyo\\tmāṁ\\tsa\\tme\\tyuktatamo\\tmataḥ\\n\"Of\\tall\\t yogīs,\\t he\\twho\\talways\\tabides\\tin\\tMe\\twith\\tgreat\\tfaith,\\tworshiping\\tMe\\nin\\ttranscendental\\tloving\\tservice,\\tis\\tmost\\tintimately\\tunited\\twith\\tMe\\tin\\t yoga,', metadata={'page': 54.0, 'source': 'documents\\\\English-Bhagavad-Gita.pdf'}), Document(page_content='bhāgo\\tjīvaḥ\\tsa\\tvijñeyaḥ\\tsa\\tcānantyāya\\tkalpate.\\n\"When\\tthe\\tupper\\tpoint\\tof\\ta\\thair\\tis\\tdivided\\tinto\\tone\\thundred\\tparts\\tand\\tagain\\neach\\tof\\tsuch\\tparts\\tis\\tfurther\\tdivided\\tinto\\tone\\thundred\\tparts,\\teach\\tsuch\\tpart\\tis\\nthe\\tmeasurement\\tof\\tthe\\tdimension\\tof\\tthe\\tspirit\\tsoul.\"\\t (Śvet.\\t 5.9)\\t Similarly,', metadata={'page': 120.0, 'source': 'documents\\\\English-Bhagavad-Gita.pdf'}), Document(page_content='The\\tYoga\\tof\\tthe\\tSupreme\\tPerson\\nCHAPTER\\tSIXTEEN\\t\\nThe\\tDivine\\tand\\tDemoniac\\tNatures\\nCHAPTER\\tSEVENTEEN\\t\\nThe\\tDivisions\\tof\\tFaith\\nCHAPTER\\tEIGHTEEN\\t\\nConclusion—\\nThe\\tPerfection\\tof\\tRenunciation', metadata={'page': 7.0, 'source': 'documents\\\\English-Bhagavad-Gita.pdf'}), Document(page_content='Bhagavad-gītā \\nAs\\tIt\\tIs', metadata={'page': 2.0, 'source': 'documents\\\\English-Bhagavad-Gita.pdf'}), Document(page_content=\"In\\tthe\\tFourth\\tChapter\\tof\\tthe\\tGītā\\tthe\\tLord\\tsays:\\n(1)\\t\\timaṁ\\tvivasvate\\tyogaṁ\\tproktavān\\taham\\tavyayam\\nvivasvān\\tmanave\\tprāha\\tmanur\\tikṣvākave\\t'bravīt\\n(2)\\t\\tevaṁ\\tparamparā-prāptam\\timaṁ\\trājarṣayo\\tviduḥ\\nsa\\tkāleneha\\tmahatā\\tyogo\\tnaṣṭaḥ\\tparantapa\\n(3)\\t\\tsa\\tevāyaṁ\\tmayā\\tte\\t'dya\\tyogaḥ\\tproktaḥ\\tpurātanaḥ\", metadata={'page': 16.0, 'source': 'documents\\\\English-Bhagavad-Gita.pdf'}), Document(page_content='In\\t the\\t first\\t six\\t chapters\\t of\\t Bhagavad-gītā,\\t the\\t living\\t entity\\t has\\t been\\ndescribed\\tas\\tnonmaterial\\tspirit\\tsoul\\twhich\\tis\\tcapable\\tof\\televating\\thimself\\tto\\nself-realization\\tby\\tdifferent\\ttypes\\tof\\t yogas.\\tAt\\tthe\\tend\\tof\\tthe\\tSixth\\tChapter,', metadata={'page': 382.0, 'source': 'documents\\\\English-Bhagavad-Gita.pdf'})]\n",
      "\n",
      "The Bhagavad Gita is divided into three yogas: karma yoga, jnana yoga, and bhakti yoga.\n"
     ]
    }
   ],
   "source": [
    "query=\"In how many yog in Bhagwat Gita Divided?\"\n",
    "answer=retrieve_answers(query=query)\n",
    "print(answer)"
   ]
  }
 ],
 "metadata": {
  "kernelspec": {
   "display_name": "Python 3",
   "language": "python",
   "name": "python3"
  },
  "language_info": {
   "codemirror_mode": {
    "name": "ipython",
    "version": 3
   },
   "file_extension": ".py",
   "mimetype": "text/x-python",
   "name": "python",
   "nbconvert_exporter": "python",
   "pygments_lexer": "ipython3",
   "version": "3.11.5"
  }
 },
 "nbformat": 4,
 "nbformat_minor": 2
}
